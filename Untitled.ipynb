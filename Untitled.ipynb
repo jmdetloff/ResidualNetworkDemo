{
 "cells": [
  {
   "cell_type": "code",
   "execution_count": 1,
   "id": "1e7f1700",
   "metadata": {},
   "outputs": [],
   "source": [
    "import torch\n",
    "import torch.nn as nn\n",
    "import torchvision\n",
    "import torchvision.transforms as transforms\n",
    "\n",
    "import matplotlib.pyplot as plt\n",
    "import numpy as np\n",
    "\n",
    "from DeepCNN import DeepCNN"
   ]
  },
  {
   "cell_type": "code",
   "execution_count": 2,
   "id": "9c782748",
   "metadata": {},
   "outputs": [],
   "source": [
    "mps_device = torch.device(\"mps\")"
   ]
  },
  {
   "cell_type": "code",
   "execution_count": 3,
   "id": "51b5cde5",
   "metadata": {},
   "outputs": [],
   "source": [
    "transform = transforms.Compose([transforms.ToTensor(), transforms.Normalize((0.5), (0.5))])\n",
    "trainset = torchvision.datasets.FashionMNIST(root='~/datasets/fashionMNIST/', train=True, download=True, transform=transform)\n",
    "testset = torchvision.datasets.FashionMNIST(root='~/datasets/fashionMNIST/', train=False, download=True, transform=transform)"
   ]
  },
  {
   "cell_type": "code",
   "execution_count": 4,
   "id": "a0bf8da2",
   "metadata": {},
   "outputs": [],
   "source": [
    "batch_size = 128\n",
    "n_iters = 1000\n",
    "num_epochs = n_iters / (len(trainset) / batch_size)\n",
    "num_epochs = int(num_epochs)\n",
    "learning_rate = 0.001"
   ]
  },
  {
   "cell_type": "code",
   "execution_count": 5,
   "id": "145ddf03",
   "metadata": {},
   "outputs": [],
   "source": [
    "classes = {0 : 'T-Shirt/Top', 1 : 'Trouser', 2 : 'Pullover', 3 : 'Dress',\n",
    "           4 : 'Coat', 5 : 'Sandal', 6 : 'Shirt', 7 : 'Sneaker', 8 : 'Bag',\n",
    "           9 : 'Ankle boot'}"
   ]
  },
  {
   "cell_type": "code",
   "execution_count": 6,
   "id": "d771cb40",
   "metadata": {},
   "outputs": [],
   "source": [
    "def calc_validation_loss(model, test_loader):\n",
    "    correct = 0\n",
    "    total = 0\n",
    "\n",
    "    for images, labels in test_loader:\n",
    "        images = images.float().to(mps_device)\n",
    "        labels = labels.to(mps_device)\n",
    "        \n",
    "        output = model(images)\n",
    "        _, predicted = torch.max(output.data, 1)\n",
    "\n",
    "        total += labels.size(0)\n",
    "        correct += (predicted == labels).sum()\n",
    "\n",
    "    return 100 * (1 - correct / total)"
   ]
  },
  {
   "cell_type": "code",
   "execution_count": 7,
   "id": "8dd3a0c8",
   "metadata": {},
   "outputs": [],
   "source": [
    "def run_experiment(model):\n",
    "    \n",
    "    train_loader = torch.utils.data.DataLoader(dataset=trainset, batch_size=batch_size, shuffle=True, num_workers = 8)\n",
    "    test_loader = torch.utils.data.DataLoader(dataset=testset, batch_size=batch_size, shuffle=False, num_workers = 8)\n",
    "    \n",
    "    criterion = nn.CrossEntropyLoss()\n",
    "    optimizer = torch.optim.Adam(model.parameters(), lr = learning_rate)\n",
    "    \n",
    "    losses = []\n",
    "    avg_losses = []\n",
    "    train_errors = []\n",
    "    val_errors = []\n",
    "\n",
    "    for epoch in range(num_epochs):\n",
    "        model = model.train()\n",
    "\n",
    "        correct = 0\n",
    "        total = 0\n",
    "        \n",
    "        epoch_losses = []\n",
    "\n",
    "        for i, (images, labels) in enumerate(train_loader, 0):\n",
    "            images = images.float().to(mps_device)\n",
    "            labels = labels.to(mps_device)\n",
    "\n",
    "            # Forward + Backward + Optimizer\n",
    "            optimizer.zero_grad()\n",
    "            outputs = model(images)\n",
    "            loss = criterion(outputs, labels)\n",
    "            loss.backward()\n",
    "            optimizer.step()\n",
    "\n",
    "            _, predicted = torch.max(outputs.data, 1)\n",
    "            total += labels.size(0)\n",
    "            correct += (predicted == labels).sum()\n",
    "            \n",
    "            losses.append(loss.cpu().data)\n",
    "            epoch_losses.append(loss.cpu().data)\n",
    "\n",
    "        avg_loss = sum(epoch_losses) / len(epoch_losses)\n",
    "        avg_losses.append(avg_loss)\n",
    "\n",
    "        train_error = 100 * (1 - correct / total)\n",
    "        train_errors.append(train_error.cpu().data)\n",
    "        \n",
    "        model = model.eval()\n",
    "        with torch.no_grad():\n",
    "            val_error = calc_validation_loss(model, test_loader)\n",
    "\n",
    "        val_errors.append(val_error.cpu().data)\n",
    "\n",
    "        print ('Epoch : %d/%d, Loss: %.4f, Validation: %.2f %%' %(epoch+1, num_epochs, avg_loss, val_error))\n",
    "\n",
    "    return train_errors, val_errors"
   ]
  },
  {
   "cell_type": "code",
   "execution_count": 8,
   "id": "06dd779e",
   "metadata": {},
   "outputs": [
    {
     "name": "stdout",
     "output_type": "stream",
     "text": [
      "Epoch : 1/2, Loss: 0.9619, Validation: 26.27 %\n",
      "Epoch : 2/2, Loss: 0.5811, Validation: 19.79 %\n",
      "Epoch : 1/2, Loss: 1.4879, Validation: 46.03 %\n",
      "Epoch : 2/2, Loss: 1.0699, Validation: 37.19 %\n"
     ]
    }
   ],
   "source": [
    "shallow_depth = 15\n",
    "deep_depth = 25\n",
    "\n",
    "shallow_standard = DeepCNN(shallow_depth, False).to(mps_device)\n",
    "deep_standard = DeepCNN(deep_depth, False).to(mps_device)\n",
    "shallow_residual = DeepCNN(shallow_depth, True).to(mps_device)\n",
    "deep_residual = DeepCNN(deep_depth, True).to(mps_device)\n",
    "\n",
    "shallow_standard_train_error, shallow_standard_test_error = run_experiment(shallow_standard)\n",
    "deep_standard_train_error, deep_standard_test_error = run_experiment(deep_standard)"
   ]
  },
  {
   "cell_type": "code",
   "execution_count": 9,
   "id": "81589085",
   "metadata": {},
   "outputs": [
    {
     "data": {
      "image/png": "[encoded data removed]",
      "text/plain": [
       "<Figure size 640x480 with 1 Axes>"
      ]
     },
     "metadata": {},
     "output_type": "display_data"
    }
   ],
   "source": [
    "plt.ylabel('Standard CNN')\n",
    "plt.ylabel('Error %')\n",
    "plt.xlabel('Epochs')\n",
    "plt.plot(shallow_standard_train_error)\n",
    "plt.plot(shallow_standard_test_error)\n",
    "plt.plot(deep_standard_train_error)\n",
    "plt.plot(deep_standard_test_error)\n",
    "\n",
    "plt.legend(['St', 'y = 2x', 'y = 3x', 'y = 4x'], loc='upper left')\n",
    "\n",
    "plt.show()"
   ]
  }
 ],
 "metadata": {
  "kernelspec": {
   "display_name": "Python 3 (ipykernel)",
   "language": "python",
   "name": "python3"
  },
  "language_info": {
   "codemirror_mode": {
    "name": "ipython",
    "version": 3
   },
   "file_extension": ".py",
   "mimetype": "text/x-python",
   "name": "python",
   "nbconvert_exporter": "python",
   "pygments_lexer": "ipython3",
   "version": "3.10.8"
  }
 },
 "nbformat": 4,
 "nbformat_minor": 5
}
